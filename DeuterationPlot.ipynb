{
 "cells": [
  {
   "cell_type": "code",
   "execution_count": 260,
   "metadata": {},
   "outputs": [],
   "source": [
    "import pandas as pd\n",
    "import json\n",
    "import numpy as np\n",
    "from pyteomics import mzml"
   ]
  },
  {
   "cell_type": "code",
   "execution_count": 261,
   "metadata": {},
   "outputs": [],
   "source": [
    "def get_ppm(mz1, mz2):\n",
    "    return abs((mz1-mz2)/mz1 * 1000000)"
   ]
  },
  {
   "cell_type": "code",
   "execution_count": 262,
   "metadata": {},
   "outputs": [],
   "source": [
    "#binary search which returns the highest-instensity peak within a ppm tolerance\n",
    "def binary_search(target, charge, array_mz, array_intensity):\n",
    "    midpoint = int(len(array_mz)/2)\n",
    "    try:\n",
    "        #binary search for any matched array\n",
    "        if abs(get_ppm(target*charge, array_mz[midpoint]*charge))<= 10:\n",
    "            return_list = [(array_mz[midpoint],array_intensity[midpoint])]\n",
    "            offset = 1\n",
    "            while offset != 0 and (midpoint - offset)>0:\n",
    "                peak_mz = array_mz[midpoint - offset]\n",
    "                peak_intensity = array_intensity[midpoint - offset]\n",
    "                ppm = abs(get_ppm(target*charge, peak_mz*charge))\n",
    "                if ppm <= 10:\n",
    "                    return_list.append((peak_mz,peak_intensity))\n",
    "                    offset += 1\n",
    "                else:\n",
    "                    offset = 0\n",
    "            while offset != 0 and (midpoint + offset < len(array_mz)):\n",
    "                peak_mz = array_mz[midpoint + offset]\n",
    "                peak_intensity = array_intensity[midpoint + offset]\n",
    "                ppm = abs(get_ppm(target*charge, peak_mz*charge))\n",
    "                if ppm <=10:\n",
    "                    return_list.append((peak_mz,peak_intensity))\n",
    "                    offset += 1\n",
    "                else:\n",
    "                    offset = 0\n",
    "            high_intensity_peak = (0,0)\n",
    "            for key,value in return_list:\n",
    "                if value > high_intensity_peak[1]:\n",
    "                    high_intensity_peak = key, value\n",
    "            return high_intensity_peak\n",
    "        #cut down array    \n",
    "        elif len(array_mz)==1 or len(array_mz)==0:\n",
    "            return 0,0\n",
    "        elif array_mz[midpoint] <= target:\n",
    "            return binary_search(target, charge, array_mz[midpoint:], array_intensity[midpoint:])\n",
    "        else:\n",
    "            return binary_search(target, charge, array_mz[0:midpoint], array_intensity[0:midpoint])\n",
    "    except IndexError:\n",
    "        return 0,0\n",
    "           "
   ]
  },
  {
   "cell_type": "code",
   "execution_count": 263,
   "metadata": {},
   "outputs": [],
   "source": [
    "#Calculate weighted average mass, then deuteration of peptide\n",
    "\n",
    "def calculate_deuteration(dic_peaks, Exchangeable_H, average_mass, charge):\n",
    "    average_mz = sum([key*value for key, value in dic_peaks.items()])/sum(dic_peaks.values())\n",
    "    D_uptake = (average_mz*charge - charge*1.007276) - average_mass\n",
    "    Deuteration = (D_uptake/Exchangeable_H)*100\n",
    "    return Deuteration\n"
   ]
  },
  {
   "cell_type": "code",
   "execution_count": 264,
   "metadata": {},
   "outputs": [],
   "source": [
    "#Peptide_1_mz = [503.3127]       #give a monoisotopic m/z from non-deuterated peptide in the raw file (AngII 2+)\n",
    "Peptide_1_mz = [377.7374]       #SynII (4+)\n",
    "\n",
    "Max_D = 20                       #give the maximal deuterium can be labelled on the peptide.(value can be a little bit larger)\n",
    "Exchangeable_H = 13              #give exchangeable hydrogen  \n",
    "\n",
    "average_mass = 1507.8406         #give the average mass of the peptide\n",
    "#SynII = 1507.8406\n",
    "\n",
    "Charge = 4\n",
    "Hydrogen_mass = 1.007276\n",
    "scan_range_start = 300           #give the start scan number\n",
    "scan_range_end = 400             #give the end scan number\n",
    "Deuteration_all = []\n",
    "Retention_time_all = []"
   ]
  },
  {
   "cell_type": "code",
   "execution_count": 265,
   "metadata": {},
   "outputs": [],
   "source": [
    "#build up peptide library\n",
    "for i in range(Max_D):\n",
    "    Deu_mz= Peptide_1_mz[i] + (Hydrogen_mass/Charge)\n",
    "    Peptide_1_mz.append(Deu_mz)\n",
    "#print(Peptide_1_mz)"
   ]
  },
  {
   "cell_type": "code",
   "execution_count": 266,
   "metadata": {},
   "outputs": [
    {
     "name": "stdout",
     "output_type": "stream",
     "text": [
      "300\n",
      "301\n",
      "302\n",
      "303\n",
      "304\n",
      "305\n",
      "306\n",
      "307\n",
      "308\n",
      "309\n",
      "310\n",
      "311\n",
      "312\n",
      "313\n",
      "314\n",
      "315\n",
      "316\n",
      "317\n",
      "318\n",
      "319\n",
      "320\n",
      "321\n",
      "322\n",
      "323\n",
      "324\n",
      "325\n",
      "326\n",
      "327\n",
      "328\n",
      "329\n",
      "330\n",
      "331\n",
      "332\n",
      "333\n",
      "334\n",
      "335\n",
      "336\n",
      "337\n",
      "338\n",
      "339\n",
      "340\n",
      "341\n",
      "342\n",
      "343\n",
      "344\n",
      "345\n",
      "346\n",
      "347\n",
      "348\n",
      "349\n",
      "350\n",
      "351\n",
      "352\n",
      "353\n",
      "354\n",
      "355\n",
      "356\n",
      "357\n",
      "358\n",
      "359\n",
      "360\n",
      "361\n",
      "362\n",
      "363\n",
      "364\n",
      "365\n",
      "366\n",
      "367\n",
      "368\n",
      "369\n",
      "370\n",
      "371\n",
      "372\n",
      "373\n",
      "374\n",
      "375\n",
      "376\n",
      "377\n",
      "378\n",
      "379\n",
      "380\n",
      "381\n",
      "382\n",
      "383\n",
      "384\n",
      "385\n",
      "386\n",
      "387\n",
      "388\n",
      "389\n",
      "390\n",
      "391\n",
      "392\n",
      "393\n",
      "394\n",
      "395\n",
      "396\n",
      "397\n",
      "398\n",
      "399\n",
      "[47.46291148439224, 48.17378276684744, 48.35964311668109, 48.282982753436535, 48.56373422933477, 49.1689396579624, 50.374358796566064, 50.32700723417677, 51.46099848893579, 51.33787773348174, 53.641942979293866, 54.742705676765645, 57.05423313163115, 60.54949408356571, 64.61495193191415, 69.88156929057297, 75.55632508841566, 81.43365529603426, 88.02411679110509, 93.18231279619866, 96.4811476080303, 100.33075558907372, 102.44982590000535, 104.80574990520802, 105.54958452614056, 106.90876852485975, 106.02058124626848, 107.65996918511904, 107.58947883820417, 108.29231912909493, 109.51555025118383, 108.94358965323975, 108.76009886066045, 108.7929383348917, 109.250251155448, 108.28184162553849, 108.27511488247848, 108.14017069487119, 107.12532823408414, 107.77395496349982, 108.46379306563693, 108.94850620446294, 108.60933488431259, 106.4394105210235, 105.97040958162569, 104.4765674584666, 104.01824590807722, 103.4757798960527, 99.81654984379963, 97.72820837259377, 94.7614446984849, 88.40328142994517, 82.00053232110174, 75.78220327061445, 71.5482302749636, 66.11673452119669, 60.98134691561916, 57.34412111216898, 55.40163492290993, 54.99098186973802, 50.65618848858636, 50.6998489626767, 49.794486257208234, 48.14418290675698, 48.48484935693985, 46.76567547478848, 46.09388642422276, 45.629750315501596, 44.72432390450649, 44.24625807633639, 46.77503067042695, 43.793750035946196, 43.1263233537248, 42.56235286485522, 41.81389978744811, 42.295242418752494, 40.919852465043945, 40.64863783254308, 40.431429905984615, 41.50198171424178, 39.474295928579735, 40.11962354950181, 39.31043691798794, 38.829066839282575, 38.917200090813466, 40.665577846324105, 39.56092597408875, 38.552293768916215, 39.23038957221496, 37.77121642191595, 39.40849643756617, 37.53532802213613, 39.85277694561529, 39.24688443593053, 38.7126710790391, 37.9388671889361, 37.6901798872443, 39.988348265102594, 37.2674470128004, 39.07760735959388]\n",
      "[2.636433201599, 2.645159917641, 2.653887333043, 2.662614649105, 2.671341782379, 2.680068800418, 2.688797801304, 2.697524433899, 2.706251932748, 2.714978466002, 2.723705635039, 2.732432684867, 2.741159766483, 2.74988709844, 2.758613981374, 2.767341551749, 2.776068716812, 2.784795683193, 2.793522832362, 2.802249814638, 2.81097696778, 2.819704482524, 2.828431568114, 2.837158784835, 2.845886065133, 2.854613317617, 2.863340216446, 2.872067365615, 2.880794514783, 2.889521516927, 2.898248848883, 2.906975648371, 2.915703198878, 2.924430681833, 2.933157318401, 2.941884415913, 2.950611898867, 2.959338531462, 2.968066165415, 2.976792984772, 2.985519800154, 2.994247132111, 3.00297446804, 3.011701601315, 3.020429517396, 3.02915668246, 3.037883799839, 3.046610698668, 3.055337899494, 3.064065418212, 3.072792499828, 3.081519998678, 3.090246631273, 3.098975334136, 3.107701915073, 3.116429501343, 3.125156499513, 3.133883501657, 3.142610698509, 3.151337716548, 3.160064798164, 3.168792750009, 3.177519283263, 3.186247032452, 3.19497418162, 3.20370116787, 3.212428249486, 3.22115538276, 3.229882265695, 3.238609518178, 3.247336516349, 3.256063665517, 3.264791116683, 3.273518182405, 3.282245868015, 3.290972897975, 3.299700015354, 3.308427017498, 3.317154134878, 3.325881148942, 3.334608266322, 3.343335268466, 3.35206240174, 3.360789431699, 3.36951686697, 3.378243801562, 3.386972301769, 3.395698648262, 3.404425884851, 3.413152867126, 3.421880298424, 3.430608933735, 3.439335582225, 3.448062632052, 3.456790134875, 3.465516866811, 3.47424496568, 3.482971848615, 3.491699116993, 3.500426083374]\n"
     ]
    }
   ],
   "source": [
    "with mzml.read(\"/Volumes/jbl_data/flashdrive/data/mzML/ExpA026_D2O-Syn2_300lab_10psi_240s-T3.mzML\") as reader: #give the mzml path\n",
    "    for scan in reader:\n",
    "        if scan[\"index\"] in range(scan_range_start,scan_range_end):\n",
    "            print(scan[\"index\"])\n",
    "            scan_time=float(scan[\"scanList\"][\"scan\"][0][\"scan start time\"])\n",
    "            #print(scan_time)\n",
    "            m_z=scan[\"m/z array\"]\n",
    "            intensity=scan[\"intensity array\"]\n",
    "            dic=dict(zip(m_z, intensity))\n",
    "            dic1={key:value for key, value in dic.items() if value>100 }\n",
    "            array_mz = list(dic1.keys())\n",
    "            #print(array_mz)\n",
    "            array_intensity = list(dic1.values())\n",
    "            #print(array_mz)\n",
    "            #print(array_intensity)\n",
    "            Matched_peaks_in_tuble = ()\n",
    "            for i in range(len(Peptide_1_mz)):\n",
    "                #print(i)\n",
    "                peak = binary_search(Peptide_1_mz[i], Charge, array_mz, array_intensity)\n",
    "                #print(peak)\n",
    "                Matched_peaks_in_tuble += ((peak),)\n",
    "            dic_high_peak = dict((x,y) for x,y in Matched_peaks_in_tuble)\n",
    "            Deuteration_1= calculate_deuteration(dic_high_peak, Exchangeable_H, average_mass, Charge)\n",
    "            Deuteration_all.append(Deuteration_1)\n",
    "            Retention_time_all.append(scan_time)\n",
    "print(Deuteration_all)\n",
    "print(Retention_time_all)"
   ]
  },
  {
   "cell_type": "code",
   "execution_count": 267,
   "metadata": {},
   "outputs": [
    {
     "data": {
      "image/png": "[encoded data removed]",
      "text/plain": [
       "<Figure size 720x576 with 1 Axes>"
      ]
     },
     "metadata": {
      "needs_background": "light"
     },
     "output_type": "display_data"
    }
   ],
   "source": [
    "# Plot figure\n",
    "x = Retention_time_all\n",
    "y = Deuteration_all\n",
    "\n",
    "plt.figure(figsize=(10,8))\n",
    "\n",
    "plt.boxplot(y)\n",
    "\n",
    "plt.savefig('/Users/JBLangford4/Desktop/Syn2_300lab_T3_box.png',dpi=300) #give path and plot name to save pic\n",
    "\n",
    "plt.show()"
   ]
  },
  {
   "cell_type": "code",
   "execution_count": 268,
   "metadata": {},
   "outputs": [
    {
     "data": {
      "image/png": "[encoded data removed]",
      "text/plain": [
       "<Figure size 720x432 with 2 Axes>"
      ]
     },
     "metadata": {
      "needs_background": "light"
     },
     "output_type": "display_data"
    }
   ],
   "source": [
    "# Plot figure\n",
    "x = Retention_time_all\n",
    "y = Deuteration_all\n",
    "\n",
    "# Plot figure\n",
    "\n",
    "plt.figure(figsize=(10,6))\n",
    "\n",
    "plt.subplot(1,2,1)\n",
    "plt.hist(y,\n",
    "        color = 'crimson',\n",
    "        bins = 13,\n",
    "        density = False)\n",
    "\n",
    "plt.title('Deuterium Uptake in Scans')\n",
    "\n",
    "plt.subplot(1,2,2)\n",
    "plt.scatter(x,y,\n",
    "        c ='crimson',\n",
    "        s = 10,\n",
    "        marker = 's',\n",
    "        edgecolor = 'black')\n",
    "        \n",
    "plt.title('Scatter plot')\n",
    "plt.xlabel('Scan #')\n",
    "plt.ylabel('Deuterium Uptake')\n",
    "\n",
    "plt.tight_layout()\n",
    "\n",
    "plt.savefig('/Users/JBLangford4/Desktop/Syn2_300lab_T3_hist_scat.png',dpi=300) #give path and plot name to save pic\n",
    "\n",
    "plt.show()"
   ]
  },
  {
   "cell_type": "code",
   "execution_count": 269,
   "metadata": {},
   "outputs": [
    {
     "data": {
      "image/png": "[encoded data removed]",
      "text/plain": [
       "<Figure size 432x288 with 2 Axes>"
      ]
     },
     "metadata": {
      "needs_background": "light"
     },
     "output_type": "display_data"
    }
   ],
   "source": [
    "# library\n",
    "import seaborn as sns\n",
    "import pandas as pd\n",
    "import numpy as np\n",
    "\n",
    "# Plot figure\n",
    "x = Retention_time_all\n",
    "y = Deuteration_all\n",
    "\n",
    "# Create a dataset\n",
    "df = pd.DataFrame([y])\n",
    "\n",
    "# Default heatmap\n",
    "p1 = sns.heatmap(df)\n",
    "\n",
    "plt.savefig('/Users/JBLangford4/Desktop/Syn2_300lab_T3_htmp_scat.png',dpi=300) #give path and plot name to save pic"
   ]
  },
  {
   "cell_type": "code",
   "execution_count": null,
   "metadata": {},
   "outputs": [],
   "source": []
  }
 ],
 "metadata": {
  "kernelspec": {
   "display_name": "Python 3 (ipykernel)",
   "language": "python",
   "name": "python3"
  },
  "language_info": {
   "codemirror_mode": {
    "name": "ipython",
    "version": 3
   },
   "file_extension": ".py",
   "mimetype": "text/x-python",
   "name": "python",
   "nbconvert_exporter": "python",
   "pygments_lexer": "ipython3",
   "version": "3.9.12"
  }
 },
 "nbformat": 4,
 "nbformat_minor": 4
}
